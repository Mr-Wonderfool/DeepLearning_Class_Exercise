{
 "cells": [
  {
   "cell_type": "code",
   "execution_count": 1,
   "metadata": {
    "collapsed": true
   },
   "outputs": [],
   "source": [
    "import tensorflow as tf\n",
    "from tensorflow import keras\n",
    "from tensorflow.python.keras import layers"
   ]
  },
  {
   "cell_type": "markdown",
   "metadata": {},
   "source": [
    "### dataset loading and preprocessing"
   ]
  },
  {
   "cell_type": "code",
   "execution_count": 5,
   "metadata": {},
   "outputs": [],
   "source": [
    "(x_train, y_train), (x_test, y_test) = keras.datasets.mnist.load_data()\n",
    "# Normalize pixel values to be between 0 and 1\n",
    "x_train = x_train.astype(\"float32\") / 255.0\n",
    "x_test = x_test.astype(\"float32\") / 255.0\n",
    "# add new channel dimension\n",
    "x_train = x_train[..., tf.newaxis]\n",
    "x_test = x_test[..., tf.newaxis]\n",
    "# Convert labels to one-hot encoded vectors\n",
    "# 10 classes for digits 0-9\n",
    "y_train = keras.utils.to_categorical(y_train, num_classes=10)\n",
    "y_test = keras.utils.to_categorical(y_test, num_classes=10)"
   ]
  },
  {
   "cell_type": "markdown",
   "metadata": {},
   "source": [
    "### Hyperparameters"
   ]
  },
  {
   "cell_type": "code",
   "execution_count": 7,
   "metadata": {},
   "outputs": [],
   "source": [
    "learning_rate = 1e-4\n",
    "keep_prob_rate = 0.7\n",
    "dropout_rate = 1 - keep_prob_rate\n",
    "num_epochs = 15\n",
    "batch_size = 100"
   ]
  },
  {
   "cell_type": "markdown",
   "metadata": {},
   "source": [
    "### Model definition"
   ]
  },
  {
   "cell_type": "code",
   "execution_count": 8,
   "metadata": {},
   "outputs": [
    {
     "name": "stdout",
     "output_type": "stream",
     "text": [
      "Model: \"sequential\"\n",
      "_________________________________________________________________\n",
      " Layer (type)                Output Shape              Param #   \n",
      "=================================================================\n",
      " module_wrapper (ModuleWrapp  (None, 22, 22, 32)       1600      \n",
      " er)                                                             \n",
      "                                                                 \n",
      " module_wrapper_1 (ModuleWra  (None, 11, 11, 32)       0         \n",
      " pper)                                                           \n",
      "                                                                 \n",
      " module_wrapper_2 (ModuleWra  (None, 7, 7, 64)         51264     \n",
      " pper)                                                           \n",
      "                                                                 \n",
      " module_wrapper_3 (ModuleWra  (None, 3, 3, 64)         0         \n",
      " pper)                                                           \n",
      "                                                                 \n",
      " module_wrapper_4 (ModuleWra  (None, 576)              0         \n",
      " pper)                                                           \n",
      "                                                                 \n",
      " module_wrapper_5 (ModuleWra  (None, 1024)             590848    \n",
      " pper)                                                           \n",
      "                                                                 \n",
      " module_wrapper_6 (ModuleWra  (None, 1024)             0         \n",
      " pper)                                                           \n",
      "                                                                 \n",
      " module_wrapper_7 (ModuleWra  (None, 10)               10250     \n",
      " pper)                                                           \n",
      "                                                                 \n",
      "=================================================================\n",
      "Total params: 653,962\n",
      "Trainable params: 653,962\n",
      "Non-trainable params: 0\n",
      "_________________________________________________________________\n"
     ]
    }
   ],
   "source": [
    "model = keras.Sequential([\n",
    "    # input shape (width, height, channels)\n",
    "    keras.Input(shape=(28, 28, 1)),\n",
    "    # conv1, 7x7 kernel, 1 -> 32\n",
    "    layers.Conv2D(32, kernel_size=(7, 7), activation='relu'),\n",
    "    layers.MaxPooling2D(pool_size=(2, 2)),\n",
    "    # conv2, 5x5 kernel, 32 -> 64\n",
    "    layers.Conv2D(64, kernel_size=(5, 5), activation='relu'),\n",
    "    layers.MaxPooling2D(pool_size=(2, 2)),\n",
    "    layers.Flatten(),\n",
    "    # fully connected 1\n",
    "    layers.Dense(1024, activation=\"relu\"),\n",
    "    layers.Dropout(dropout_rate),\n",
    "    # fully connected 2\n",
    "    layers.Dense(10, activation=\"softmax\")\n",
    "])\n",
    "model.summary()"
   ]
  },
  {
   "cell_type": "markdown",
   "metadata": {},
   "source": [
    "### Compile and train the model"
   ]
  },
  {
   "cell_type": "code",
   "execution_count": 9,
   "metadata": {},
   "outputs": [
    {
     "name": "stdout",
     "output_type": "stream",
     "text": [
      "\n",
      "Starting training...\n",
      "Epoch 1/15\n",
      "600/600 [==============================] - 17s 27ms/step - loss: 0.5234 - accuracy: 0.8583 - val_loss: 0.1573 - val_accuracy: 0.9530\n",
      "Epoch 2/15\n",
      "600/600 [==============================] - 18s 30ms/step - loss: 0.1448 - accuracy: 0.9571 - val_loss: 0.0917 - val_accuracy: 0.9727\n",
      "Epoch 3/15\n",
      "600/600 [==============================] - 26s 43ms/step - loss: 0.0992 - accuracy: 0.9701 - val_loss: 0.0674 - val_accuracy: 0.9792\n",
      "Epoch 4/15\n",
      "600/600 [==============================] - 29s 48ms/step - loss: 0.0775 - accuracy: 0.9761 - val_loss: 0.0613 - val_accuracy: 0.9815\n",
      "Epoch 5/15\n",
      "600/600 [==============================] - 29s 48ms/step - loss: 0.0644 - accuracy: 0.9806 - val_loss: 0.0499 - val_accuracy: 0.9842\n",
      "Epoch 6/15\n",
      "600/600 [==============================] - 27s 45ms/step - loss: 0.0559 - accuracy: 0.9830 - val_loss: 0.0418 - val_accuracy: 0.9871\n",
      "Epoch 7/15\n",
      "600/600 [==============================] - 24s 40ms/step - loss: 0.0490 - accuracy: 0.9847 - val_loss: 0.0432 - val_accuracy: 0.9861\n",
      "Epoch 8/15\n",
      "600/600 [==============================] - 21s 35ms/step - loss: 0.0434 - accuracy: 0.9873 - val_loss: 0.0345 - val_accuracy: 0.9889\n",
      "Epoch 9/15\n",
      "600/600 [==============================] - 20s 34ms/step - loss: 0.0391 - accuracy: 0.9883 - val_loss: 0.0332 - val_accuracy: 0.9900\n",
      "Epoch 10/15\n",
      "600/600 [==============================] - 19s 31ms/step - loss: 0.0344 - accuracy: 0.9894 - val_loss: 0.0309 - val_accuracy: 0.9905\n",
      "Epoch 11/15\n",
      "600/600 [==============================] - 20s 34ms/step - loss: 0.0325 - accuracy: 0.9900 - val_loss: 0.0341 - val_accuracy: 0.9884\n",
      "Epoch 12/15\n",
      "600/600 [==============================] - 28s 46ms/step - loss: 0.0293 - accuracy: 0.9909 - val_loss: 0.0303 - val_accuracy: 0.9897\n",
      "Epoch 13/15\n",
      "600/600 [==============================] - 27s 45ms/step - loss: 0.0266 - accuracy: 0.9917 - val_loss: 0.0290 - val_accuracy: 0.9903\n",
      "Epoch 14/15\n",
      "600/600 [==============================] - 25s 42ms/step - loss: 0.0237 - accuracy: 0.9926 - val_loss: 0.0299 - val_accuracy: 0.9905\n",
      "Epoch 15/15\n",
      "600/600 [==============================] - 26s 43ms/step - loss: 0.0224 - accuracy: 0.9934 - val_loss: 0.0265 - val_accuracy: 0.9915\n"
     ]
    }
   ],
   "source": [
    "model.compile(\n",
    "    optimizer=keras.optimizers.Adam(learning_rate=learning_rate),\n",
    "    loss=\"categorical_crossentropy\",\n",
    "    metrics=[\"accuracy\"],\n",
    ")\n",
    "print(\"\\nStarting training...\")\n",
    "history = model.fit(\n",
    "    x_train,\n",
    "    y_train,\n",
    "    batch_size=batch_size,\n",
    "    epochs=num_epochs,\n",
    "    validation_data=(x_test, y_test),\n",
    ")"
   ]
  },
  {
   "cell_type": "code",
   "execution_count": 10,
   "metadata": {},
   "outputs": [
    {
     "name": "stdout",
     "output_type": "stream",
     "text": [
      "\n",
      "Evaluating final model on test data...\n",
      "Test loss: 0.0265\n",
      "Test accuracy: 0.9915\n"
     ]
    }
   ],
   "source": [
    "print(\"\\nEvaluating final model on test data...\")\n",
    "score = model.evaluate(x_test, y_test, verbose=0)\n",
    "print(f\"Test loss: {score[0]:.4f}\")\n",
    "print(f\"Test accuracy: {score[1]:.4f}\")"
   ]
  }
 ],
 "metadata": {
  "anaconda-cloud": {},
  "kernelspec": {
   "display_name": "python_deepLearning",
   "language": "python",
   "name": "python3"
  },
  "language_info": {
   "codemirror_mode": {
    "name": "ipython",
    "version": 3
   },
   "file_extension": ".py",
   "mimetype": "text/x-python",
   "name": "python",
   "nbconvert_exporter": "python",
   "pygments_lexer": "ipython3",
   "version": "3.10.0"
  }
 },
 "nbformat": 4,
 "nbformat_minor": 1
}
