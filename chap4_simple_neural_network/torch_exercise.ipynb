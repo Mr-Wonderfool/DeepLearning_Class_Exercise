{
 "cells": [
  {
   "cell_type": "code",
   "execution_count": 1,
   "metadata": {},
   "outputs": [],
   "source": [
    "import torch\n",
    "import torch.nn.functional as F\n",
    "import numpy as np"
   ]
  },
  {
   "cell_type": "markdown",
   "metadata": {},
   "source": [
    "## 实现softmax函数"
   ]
  },
  {
   "cell_type": "code",
   "execution_count": 2,
   "metadata": {},
   "outputs": [
    {
     "data": {
      "text/plain": [
       "True"
      ]
     },
     "execution_count": 2,
     "metadata": {},
     "output_type": "execute_result"
    }
   ],
   "source": [
    "def softmax(x: torch.Tensor):\n",
    "    ##########\n",
    "    '''实现softmax函数，只要求对最后一维归一化，\n",
    "    不允许用tf自带的softmax函数'''\n",
    "    ##########\n",
    "    values, _ = torch.max(x, dim=-1, keepdim=True)\n",
    "    x = x - values\n",
    "    x = torch.exp(x)\n",
    "    return x / torch.sum(x, dim=-1, keepdim=True)\n",
    "\n",
    "test_data = torch.randn(size=(10, 5))\n",
    "np.all(np.isclose(softmax(test_data).numpy(), F.softmax(test_data, dim=-1).numpy()))"
   ]
  },
  {
   "cell_type": "markdown",
   "metadata": {},
   "source": [
    "## 实现sigmoid函数"
   ]
  },
  {
   "cell_type": "code",
   "execution_count": 3,
   "metadata": {},
   "outputs": [
    {
     "data": {
      "text/plain": [
       "True"
      ]
     },
     "execution_count": 3,
     "metadata": {},
     "output_type": "execute_result"
    }
   ],
   "source": [
    "def sigmoid(x: torch.Tensor):\n",
    "    ##########\n",
    "    '''实现sigmoid函数， 不允许用tf自带的sigmoid函数'''\n",
    "    ##########\n",
    "    return 1 / (1 + torch.exp(-x))\n",
    "\n",
    "test_data = torch.randn(size=[10, 5])\n",
    "np.all(np.isclose(sigmoid(test_data).numpy(), F.sigmoid(test_data).numpy()))"
   ]
  },
  {
   "cell_type": "markdown",
   "metadata": {},
   "source": [
    "## 实现 softmax 交叉熵loss函数"
   ]
  },
  {
   "cell_type": "code",
   "execution_count": 4,
   "metadata": {},
   "outputs": [
    {
     "data": {
      "text/plain": [
       "True"
      ]
     },
     "execution_count": 4,
     "metadata": {},
     "output_type": "execute_result"
    }
   ],
   "source": [
    "def softmax_ce(x, label: torch.Tensor):\n",
    "    ##########\n",
    "    '''实现 softmax 交叉熵loss函数， 不允许用tf自带的softmax_cross_entropy函数'''\n",
    "    ##########\n",
    "    # label shape (batch, ) containing class index\n",
    "    onehot_label = torch.zeros_like(x, dtype=torch.long)\n",
    "    onehot_label.scatter_(1, label.unsqueeze(1), 1)\n",
    "    x = softmax(x) # (batch, logits_prob) at dim -1\n",
    "    x = torch.log(x) * onehot_label\n",
    "    return -torch.sum(x, dim=-1)\n",
    "\n",
    "test_data = torch.randn(size=(10, 5))\n",
    "label = torch.randint(0, 5, (10, ))\n",
    "# F.cross_entropy uses softmax inside\n",
    "np.all(np.isclose(softmax_ce(test_data, label), F.cross_entropy(test_data, label, reduction='none')))"
   ]
  },
  {
   "cell_type": "markdown",
   "metadata": {},
   "source": [
    "## 实现 sigmoid 交叉熵loss函数"
   ]
  },
  {
   "cell_type": "code",
   "execution_count": 77,
   "metadata": {},
   "outputs": [
    {
     "data": {
      "text/plain": [
       "True"
      ]
     },
     "execution_count": 77,
     "metadata": {},
     "output_type": "execute_result"
    }
   ],
   "source": [
    "def sigmoid_ce(x, label):\n",
    "    ##########\n",
    "    '''实现 softmax 交叉熵loss函数， 不允许用tf自带的softmax_cross_entropy函数'''\n",
    "    ##########\n",
    "    # label with shape (batch, )\n",
    "    x = sigmoid(x) # (batch, logits_prob) at dim -1\n",
    "    x = -torch.log(x) * label\n",
    "    return x\n",
    "test_data = torch.randn(size=(10, ))\n",
    "label = torch.randint(0, 2, test_data.shape, dtype=torch.float)\n",
    "np.all(np.isclose(sigmoid_ce(test_data, label), F.binary_cross_entropy(F.sigmoid(test_data), label, reduction='none') * label))"
   ]
  }
 ],
 "metadata": {
  "kernelspec": {
   "display_name": "Deep_RL",
   "language": "python",
   "name": "python3"
  },
  "language_info": {
   "codemirror_mode": {
    "name": "ipython",
    "version": 3
   },
   "file_extension": ".py",
   "mimetype": "text/x-python",
   "name": "python",
   "nbconvert_exporter": "python",
   "pygments_lexer": "ipython3",
   "version": "3.9.6"
  }
 },
 "nbformat": 4,
 "nbformat_minor": 2
}
