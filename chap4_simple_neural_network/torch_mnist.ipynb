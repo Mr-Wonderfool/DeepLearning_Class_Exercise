{
 "cells": [
  {
   "cell_type": "code",
   "execution_count": 35,
   "metadata": {},
   "outputs": [],
   "source": [
    "import os\n",
    "import torch\n",
    "from torchvision import datasets, transforms\n",
    "from torch import nn\n",
    "from torch.utils.data import DataLoader\n",
    "from torch import optim"
   ]
  },
  {
   "cell_type": "markdown",
   "metadata": {},
   "source": [
    "### Loading Dataset"
   ]
  },
  {
   "cell_type": "code",
   "execution_count": 36,
   "metadata": {},
   "outputs": [],
   "source": [
    "data_tf = transforms.Compose([transforms.ToTensor(), transforms.Normalize(0.5, 0.5)])\n",
    "\n",
    "def mnist_dataset():\n",
    "    root_dir = \"./data\"\n",
    "    os.makedirs(root_dir, exist_ok=True)\n",
    "    train_dataset = datasets.MNIST(root=root_dir, train=True, transform=data_tf, download=True)\n",
    "    test_dataset = datasets.MNIST(root=root_dir, train=False, transform=data_tf)\n",
    "    return train_dataset, test_dataset\n",
    "\n",
    "train_dataset, test_dataset = mnist_dataset()"
   ]
  },
  {
   "cell_type": "markdown",
   "metadata": {},
   "source": [
    "### Network Definition"
   ]
  },
  {
   "cell_type": "code",
   "execution_count": 37,
   "metadata": {},
   "outputs": [],
   "source": [
    "class Network(nn.Module):\n",
    "    \"\"\" Network with two fully connected layers and softmax output \"\"\"\n",
    "    def __init__(self, input_dims, mlp_dims: list, output_dims):\n",
    "        super(Network, self).__init__()\n",
    "        self.mlp_dims = [input_dims] + mlp_dims + [output_dims]\n",
    "        layers = []\n",
    "        for i in range(len(self.mlp_dims) - 1):\n",
    "            layers.append(nn.Linear(self.mlp_dims[i], self.mlp_dims[i + 1]))\n",
    "            if i != len(self.mlp_dims) - 2:\n",
    "                # activation default to relu, normal output for last layer\n",
    "                layers.append(nn.ReLU())\n",
    "        self.fc = nn.Sequential(*layers)\n",
    "    def forward(self, x):\n",
    "        # x with shape (batch, 28, 28)\n",
    "        return self.fc(x)"
   ]
  },
  {
   "cell_type": "markdown",
   "metadata": {},
   "source": [
    "### Training Loop"
   ]
  },
  {
   "cell_type": "code",
   "execution_count": 47,
   "metadata": {},
   "outputs": [],
   "source": [
    "def mnist_training():\n",
    "    learning_rate = 1e-2\n",
    "    batch_size = 64\n",
    "    epochs = 10\n",
    "    eval_interval = max(epochs // 3, 1)\n",
    "    \n",
    "    train_loader = DataLoader(train_dataset, batch_size=batch_size, shuffle=True)\n",
    "    test_loader = DataLoader(test_dataset, batch_size=batch_size, shuffle=True)\n",
    "\n",
    "    criterion = nn.CrossEntropyLoss()\n",
    "    model = Network(input_dims=28 * 28, mlp_dims=[300, 100], output_dims=10) # 10 classes classification\n",
    "    optimizer = optim.SGD(model.parameters(), lr=learning_rate)\n",
    "\n",
    "    def count_correct(pred, label):\n",
    "        _, pred = torch.max(pred, dim=1)\n",
    "        return torch.sum(pred == label)\n",
    "\n",
    "    def train():\n",
    "        train_loss, train_acc = 0., 0.\n",
    "        model.train()\n",
    "        for imgs, labels in train_loader:\n",
    "            imgs = imgs.view(-1, 28 * 28)\n",
    "            prob = model(imgs)\n",
    "            loss = criterion(prob, labels)\n",
    "            optimizer.zero_grad()\n",
    "            loss.backward()\n",
    "            optimizer.step()\n",
    "            train_loss += loss.item()\n",
    "            num_correct = count_correct(prob, labels)\n",
    "            acc = num_correct / imgs.size(0)\n",
    "            train_acc += acc\n",
    "        return train_loss / len(train_loader), train_acc / len(train_loader)\n",
    "            \n",
    "    def validate():\n",
    "        eval_loss, eval_acc = 0., 0.\n",
    "        model.eval()\n",
    "        for imgs, labels in test_loader:\n",
    "            imgs = imgs.view(-1, 28 * 28)\n",
    "            prob = model(imgs)\n",
    "            loss = criterion(prob, labels)\n",
    "            eval_loss += loss.item()\n",
    "            num_correct = count_correct(prob, labels)\n",
    "            acc = num_correct / imgs.size(0)\n",
    "            eval_acc += acc\n",
    "        return eval_loss / len(test_loader), eval_acc / len(test_loader)\n",
    "    \n",
    "    # training loop\n",
    "    for i in range(epochs):\n",
    "        train_loss, train_acc = train()\n",
    "        print(f\"Epoch {i}, loss: {train_loss:.2f}, accuracy: {train_acc * 100:.2f}%\")\n",
    "        if i % eval_interval == 0 and i:\n",
    "            eval_loss, eval_acc = validate()\n",
    "            print(f\"Evaluating network in epoch {i}, loss: {eval_loss:.2f}, accuracy: {eval_acc * 100:.2f}%\")"
   ]
  },
  {
   "cell_type": "code",
   "execution_count": 48,
   "metadata": {},
   "outputs": [
    {
     "name": "stdout",
     "output_type": "stream",
     "text": [
      "Epoch 0, loss: 1.00, accuracy: 76.01%\n",
      "Epoch 1, loss: 0.37, accuracy: 89.24%\n",
      "Epoch 2, loss: 0.32, accuracy: 90.83%\n",
      "Epoch 3, loss: 0.28, accuracy: 91.72%\n",
      "Evaluating network in epoch 3, loss: 0.28, accuracy: 92.09%\n",
      "Epoch 4, loss: 0.26, accuracy: 92.41%\n",
      "Epoch 5, loss: 0.24, accuracy: 93.07%\n",
      "Epoch 6, loss: 0.22, accuracy: 93.66%\n",
      "Evaluating network in epoch 6, loss: 0.21, accuracy: 93.86%\n",
      "Epoch 7, loss: 0.20, accuracy: 94.26%\n",
      "Epoch 8, loss: 0.18, accuracy: 94.74%\n",
      "Epoch 9, loss: 0.17, accuracy: 95.13%\n",
      "Evaluating network in epoch 9, loss: 0.16, accuracy: 95.21%\n"
     ]
    }
   ],
   "source": [
    "mnist_training()"
   ]
  }
 ],
 "metadata": {
  "kernelspec": {
   "display_name": "controlRL_GPU",
   "language": "python",
   "name": "python3"
  },
  "language_info": {
   "codemirror_mode": {
    "name": "ipython",
    "version": 3
   },
   "file_extension": ".py",
   "mimetype": "text/x-python",
   "name": "python",
   "nbconvert_exporter": "python",
   "pygments_lexer": "ipython3",
   "version": "3.9.20"
  }
 },
 "nbformat": 4,
 "nbformat_minor": 2
}
