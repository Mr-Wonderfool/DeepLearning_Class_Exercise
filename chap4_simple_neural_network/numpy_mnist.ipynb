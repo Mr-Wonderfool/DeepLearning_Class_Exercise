{
 "cells": [
  {
   "cell_type": "code",
   "execution_count": 1,
   "metadata": {},
   "outputs": [],
   "source": [
    "import os\n",
    "import numpy as np\n",
    "import torch\n",
    "import torch.nn.functional as F\n",
    "from torchvision import datasets, transforms\n",
    "from torch.utils.data import DataLoader, Dataset"
   ]
  },
  {
   "cell_type": "markdown",
   "metadata": {},
   "source": [
    "### Loading Dataset"
   ]
  },
  {
   "cell_type": "code",
   "execution_count": 2,
   "metadata": {},
   "outputs": [],
   "source": [
    "data_tf = transforms.Compose([transforms.ToTensor(), transforms.Normalize(0.5, 0.5)])\n",
    "\n",
    "def mnist_dataset():\n",
    "    root_dir = \"./data\"\n",
    "    os.makedirs(root_dir, exist_ok=True)\n",
    "    train_dataset = datasets.MNIST(root=root_dir, train=True, transform=data_tf, download=True)\n",
    "    test_dataset = datasets.MNIST(root=root_dir, train=False, transform=data_tf)\n",
    "    return train_dataset, test_dataset"
   ]
  },
  {
   "cell_type": "code",
   "execution_count": 3,
   "metadata": {},
   "outputs": [],
   "source": [
    "# each example contains (batch_size, 1, 28, 28)\n",
    "train_dataset, test_dataset = mnist_dataset()"
   ]
  },
  {
   "cell_type": "code",
   "execution_count": null,
   "metadata": {},
   "outputs": [],
   "source": [
    "class MNISTDataset(Dataset):\n",
    "    \"\"\" Convert class indices to onehot labels \"\"\"\n",
    "    def __init__(self, dataset):\n",
    "        super().__init__()\n",
    "        self.num_classes = 10\n",
    "        self.dataset = dataset\n",
    "    def __len__(self,):\n",
    "        return len(self.dataset)\n",
    "    def __getitem__(self, index):\n",
    "        img, label = self.dataset[index]\n",
    "        one_hot_label = torch.zeros(self.num_classes)\n",
    "        one_hot_label[label] = 1.0\n",
    "        return img[0], one_hot_label # index for channel dimension"
   ]
  },
  {
   "cell_type": "markdown",
   "metadata": {},
   "source": [
    "### Numpy-based Auto-Differentiation"
   ]
  },
  {
   "cell_type": "code",
   "execution_count": 22,
   "metadata": {},
   "outputs": [],
   "source": [
    "class Matmul:\n",
    "    def __init__(self):\n",
    "        self.mem = {}\n",
    "\n",
    "    def forward(self, x, W):\n",
    "        h = np.matmul(x, W)\n",
    "        self.mem = {\"x\": x, \"W\": W}\n",
    "        return h\n",
    "\n",
    "    def backward(self, grad_y):\n",
    "        \"\"\"\n",
    "        x: shape(N, d)\n",
    "        w: shape(d, d')\n",
    "        grad_y: shape(N, d')\n",
    "        \"\"\"\n",
    "        x = self.mem[\"x\"]\n",
    "        W = self.mem[\"W\"]\n",
    "\n",
    "        ####################\n",
    "        \"\"\"计算矩阵乘法的对应的梯度\"\"\"\n",
    "        ####################\n",
    "        grad_x = np.matmul(grad_y, W.T) # shape (N, d)\n",
    "        grad_W = np.matmul(x.T, grad_y)\n",
    "        return grad_x, grad_W\n",
    "\n",
    "\n",
    "class Relu:\n",
    "    def __init__(self):\n",
    "        self.mem = {}\n",
    "\n",
    "    def forward(self, x):\n",
    "        self.mem[\"x\"] = x\n",
    "        return np.where(x > 0, x, np.zeros_like(x))\n",
    "\n",
    "    def backward(self, grad_y):\n",
    "        \"\"\"\n",
    "        grad_y: same shape as x\n",
    "        \"\"\"\n",
    "        ####################\n",
    "        \"\"\"计算relu 激活函数对应的梯度\"\"\"\n",
    "        ####################\n",
    "        return grad_y * np.where(self.mem[\"x\"] > 0, 1.0, 0.0)\n",
    "\n",
    "\n",
    "class Softmax:\n",
    "    \"\"\"\n",
    "    softmax over last dimention\n",
    "    \"\"\"\n",
    "\n",
    "    def __init__(self):\n",
    "        self.epsilon = 1e-12\n",
    "        self.mem = {}\n",
    "\n",
    "    def forward(self, x):\n",
    "        \"\"\"\n",
    "        x: shape(N, c)\n",
    "        \"\"\"\n",
    "        x_exp = np.exp(x)\n",
    "        partition = np.sum(x_exp, axis=1, keepdims=True)\n",
    "        out = x_exp / (partition + self.epsilon)\n",
    "\n",
    "        self.mem[\"out\"] = out\n",
    "        self.mem[\"x_exp\"] = x_exp\n",
    "        return out\n",
    "\n",
    "    def backward(self, grad_y):\n",
    "        \"\"\"\n",
    "        grad_y: same shape as x\n",
    "        \"\"\"\n",
    "        s = self.mem[\"out\"]\n",
    "        return s - (grad_y != 0).astype(int)\n",
    "\n",
    "\n",
    "class Log:\n",
    "    \"\"\"\n",
    "    softmax over last dimention\n",
    "    \"\"\"\n",
    "\n",
    "    def __init__(self):\n",
    "        self.epsilon = 1e-12\n",
    "        self.mem = {}\n",
    "\n",
    "    def forward(self, x):\n",
    "        \"\"\"\n",
    "        x: shape(N, c)\n",
    "        \"\"\"\n",
    "        out = np.log(x + self.epsilon)\n",
    "\n",
    "        self.mem[\"x\"] = x\n",
    "        return out\n",
    "\n",
    "    def backward(self, grad_y):\n",
    "        \"\"\"\n",
    "        grad_y: same shape as x\n",
    "        \"\"\"\n",
    "        x = self.mem[\"x\"]\n",
    "\n",
    "        return 1.0 / (x + self.epsilon) * grad_y"
   ]
  },
  {
   "cell_type": "markdown",
   "metadata": {},
   "source": [
    "### Gradient Check"
   ]
  },
  {
   "cell_type": "code",
   "execution_count": 23,
   "metadata": {},
   "outputs": [
    {
     "data": {
      "text/plain": [
       "True"
      ]
     },
     "execution_count": 23,
     "metadata": {},
     "output_type": "execute_result"
    }
   ],
   "source": [
    "x = np.random.normal(size=[5, 6])\n",
    "W1 = np.random.normal(size=[6, 5])\n",
    "W2 = np.random.normal(size=[5, 6])\n",
    "label_ = np.zeros_like(x)\n",
    "label_[0, 1]=1.\n",
    "label_[1, 0]=1\n",
    "label_[2, 3]=1\n",
    "label_[3, 5]=1\n",
    "label_[4, 0]=1\n",
    "\n",
    "\n",
    "mul_h1 = Matmul()\n",
    "mul_h2 = Matmul()\n",
    "relu = Relu()\n",
    "softmax = Softmax()\n",
    "log = Log()\n",
    "\n",
    "h1 = mul_h1.forward(x, W1) # shape(5, 4)\n",
    "h1_relu = relu.forward(h1)\n",
    "h2 = mul_h2.forward(h1_relu, W2)\n",
    "h2_soft = softmax.forward(h2)\n",
    "h2_log = log.forward(h2_soft)\n",
    "\n",
    "\n",
    "h2_log_grad = log.backward(label_)\n",
    "h2_soft_grad = softmax.backward(h2_log_grad)\n",
    "h2_grad, W2_grad = mul_h2.backward(h2_soft_grad)\n",
    "h1_relu_grad = relu.backward(h2_grad)\n",
    "h1_grad, W1_grad = mul_h1.backward(h1_relu_grad)\n",
    "\n",
    "x, W1, W2, label_ = [torch.tensor(each, requires_grad=True) for each in [x, W1, W2, label_]]\n",
    "h1 = torch.matmul(x, W1) # (batch, output_size), first linear layer\n",
    "h1_relu = F.relu(h1)\n",
    "h2 = torch.matmul(h1_relu, W2)\n",
    "prob = F.softmax(h2, dim=-1)\n",
    "prob.retain_grad()\n",
    "log_prob = torch.log(prob)\n",
    "loss = torch.sum(log_prob * label_) # label is in form of onehot label (containing class probabilities)\n",
    "loss.backward()\n",
    "# check the gradient w.r.t prob\n",
    "np.all(np.isclose(prob.grad.numpy(), h2_log_grad))"
   ]
  },
  {
   "cell_type": "markdown",
   "metadata": {},
   "source": [
    "### Construct models"
   ]
  },
  {
   "cell_type": "code",
   "execution_count": 24,
   "metadata": {},
   "outputs": [],
   "source": [
    "class myModel:\n",
    "    def __init__(self):\n",
    "        self.W1 = np.random.normal(size=[28 * 28 + 1, 100])\n",
    "        self.W2 = np.random.normal(size=[100, 10])\n",
    "\n",
    "        self.mul_h1 = Matmul()\n",
    "        self.mul_h2 = Matmul()\n",
    "        self.relu = Relu()\n",
    "        self.softmax = Softmax()\n",
    "        self.log = Log()\n",
    "\n",
    "    def forward(self, x):\n",
    "        x = x.reshape(-1, 28 * 28)\n",
    "        bias = np.ones(shape=[x.shape[0], 1])\n",
    "        x = np.concatenate([x, bias], axis=1)\n",
    "\n",
    "        self.h1 = self.mul_h1.forward(x, self.W1)\n",
    "        self.h1_relu = self.relu.forward(self.h1)\n",
    "        self.h2 = self.mul_h2.forward(self.h1_relu, self.W2)\n",
    "        self.h2_soft = self.softmax.forward(self.h2)\n",
    "        self.h2_log = self.log.forward(self.h2_soft)\n",
    "\n",
    "    def backward(self, label):\n",
    "        self.h2_log_grad = self.log.backward(-label)\n",
    "        self.h2_soft_grad = self.softmax.backward(self.h2_log_grad)\n",
    "        self.h2_grad, self.W2_grad = self.mul_h2.backward(self.h2_soft_grad)\n",
    "        self.h1_relu_grad = self.relu.backward(self.h2_grad)\n",
    "        self.h1_grad, self.W1_grad = self.mul_h1.backward(self.h1_relu_grad)\n",
    "\n",
    "\n",
    "model = myModel()"
   ]
  },
  {
   "cell_type": "markdown",
   "metadata": {},
   "source": [
    "### Loss functions"
   ]
  },
  {
   "cell_type": "code",
   "execution_count": null,
   "metadata": {},
   "outputs": [],
   "source": [
    "def compute_loss(log_prob, labels):\n",
    "    return np.mean(np.sum(-log_prob * labels, axis=1))\n",
    "\n",
    "\n",
    "def compute_accuracy(log_prob, labels):\n",
    "    predictions = np.argmax(log_prob, axis=1)\n",
    "    truth = np.argmax(labels, axis=1)\n",
    "    return np.sum(predictions == truth)\n",
    "\n",
    "\n",
    "def train_one_step(model, x, y):\n",
    "    model.forward(x)\n",
    "    model.backward(y)\n",
    "    model.W1 -= 1e-5 * model.W1_grad\n",
    "    model.W2 -= 1e-5 * model.W2_grad\n",
    "    loss = compute_loss(model.h2_log, y)\n",
    "    accuracy = compute_accuracy(model.h2_log, y)\n",
    "    return loss, accuracy\n",
    "\n",
    "\n",
    "def test(model, x, y):\n",
    "    model.forward(x)\n",
    "    loss = compute_loss(model.h2_log, y)\n",
    "    accuracy = compute_accuracy(model.h2_log, y)\n",
    "    return loss, accuracy"
   ]
  },
  {
   "cell_type": "markdown",
   "metadata": {},
   "source": [
    "### Actual Training"
   ]
  },
  {
   "cell_type": "code",
   "execution_count": 26,
   "metadata": {},
   "outputs": [],
   "source": [
    "batch_size = 64\n",
    "train_loader = DataLoader(MNISTDataset(train_dataset), batch_size=batch_size, shuffle=True)\n",
    "test_loader = DataLoader(MNISTDataset(test_dataset), batch_size=batch_size, shuffle=True)"
   ]
  },
  {
   "cell_type": "code",
   "execution_count": 27,
   "metadata": {},
   "outputs": [],
   "source": [
    "def optimize_epoch(train_loader):\n",
    "    \"\"\" Perform training for one epoch \"\"\"\n",
    "    losses, accuracies = 0., 0.\n",
    "    for (imgs, labels) in train_loader:\n",
    "        loss, accuracy = train_one_step(model, imgs.numpy(), labels.numpy())\n",
    "        losses += loss\n",
    "        num_correct = accuracy / imgs.size(0)\n",
    "        accuracies += num_correct # number of correct predictions\n",
    "    print(f\"mean loss: {losses / len(train_loader):.2f}, mean accuracy: {accuracies / len(train_loader):.2f}\")\n",
    "def validate(test_loader):\n",
    "    \"\"\" Accuracy on test set \"\"\"\n",
    "    losses, accuracies = 0., 0.\n",
    "    for (imgs, labels) in test_loader:\n",
    "        loss, accuracy = test(model, imgs.numpy(), labels.numpy())\n",
    "        losses += loss\n",
    "        num_correct = accuracy / imgs.size(0)\n",
    "        accuracies += num_correct\n",
    "    print(f\"mean loss: {losses / len(test_loader):.2f}, mean accuracy: {accuracies / len(test_loader):.2f}\")"
   ]
  },
  {
   "cell_type": "code",
   "execution_count": 33,
   "metadata": {},
   "outputs": [
    {
     "name": "stdout",
     "output_type": "stream",
     "text": [
      "In epoch: 0\n",
      "mean loss: 3.63, mean accuracy: 0.80\n",
      "In epoch: 1\n",
      "mean loss: 3.48, mean accuracy: 0.80\n",
      "In epoch: 2\n",
      "mean loss: 3.34, mean accuracy: 0.81\n",
      "In epoch: 3\n",
      "mean loss: 3.23, mean accuracy: 0.81\n",
      "In epoch: 4\n",
      "mean loss: 3.11, mean accuracy: 0.81\n",
      "In epoch: 5\n",
      "mean loss: 3.02, mean accuracy: 0.82\n",
      "In epoch: 6\n",
      "mean loss: 2.92, mean accuracy: 0.82\n",
      "In epoch: 7\n",
      "mean loss: 2.84, mean accuracy: 0.82\n",
      "In epoch: 8\n",
      "mean loss: 2.76, mean accuracy: 0.82\n",
      "In epoch: 9\n",
      "mean loss: 2.69, mean accuracy: 0.82\n",
      "------ Test ------\n",
      "mean loss: 2.58, mean accuracy: 0.84\n"
     ]
    }
   ],
   "source": [
    "for epoch in range(10):\n",
    "    print(f\"In epoch: {epoch}\")\n",
    "    optimize_epoch(train_loader)\n",
    "print(f\"------ Test ------\")\n",
    "validate(test_loader)"
   ]
  }
 ],
 "metadata": {
  "kernelspec": {
   "display_name": "controlRL_GPU",
   "language": "python",
   "name": "python3"
  },
  "language_info": {
   "codemirror_mode": {
    "name": "ipython",
    "version": 3
   },
   "file_extension": ".py",
   "mimetype": "text/x-python",
   "name": "python",
   "nbconvert_exporter": "python",
   "pygments_lexer": "ipython3",
   "version": "3.9.20"
  }
 },
 "nbformat": 4,
 "nbformat_minor": 2
}
